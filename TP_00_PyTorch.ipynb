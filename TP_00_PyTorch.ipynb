{
  "nbformat": 4,
  "nbformat_minor": 0,
  "metadata": {
    "kernelspec": {
      "display_name": "Python 3",
      "language": "python",
      "name": "python3"
    },
    "language_info": {
      "codemirror_mode": {
        "name": "ipython",
        "version": 3
      },
      "file_extension": ".py",
      "mimetype": "text/x-python",
      "name": "python",
      "nbconvert_exporter": "python",
      "pygments_lexer": "ipython3",
      "version": "3.6.9"
    },
    "colab": {
      "name": "TP_00_PyTorch.ipynb",
      "provenance": []
    }
  },
  "cells": [
    {
      "cell_type": "code",
      "metadata": {
        "id": "S64m6E56x8zn"
      },
      "source": [
        "import torch\n",
        "import numpy as np\n",
        "from matplotlib import pyplot as plt"
      ],
      "execution_count": 1,
      "outputs": []
    },
    {
      "cell_type": "markdown",
      "source": [
        "# Reminder of numpy and its operation.\n",
        "*   Create an array with zero, one, or specified values\n",
        "*   Use different shapes and print to validate"
      ],
      "metadata": {
        "id": "Y04BOCSsZm1d"
      }
    },
    {
      "cell_type": "code",
      "metadata": {
        "colab": {
          "base_uri": "https://localhost:8080/"
        },
        "id": "umpl45jHx8z0",
        "outputId": "8a0fd5dd-55a6-43ab-841c-fc6ac7c4c617"
      },
      "source": [
        "# Reminder of numpy\n",
        "x = np.zeros((1, 5)) # create an array with zeros\n",
        "print(x)\n",
        "x = np.ones((1, 5)) # create an array with ones\n",
        "print(x)\n",
        "x = np.array([[1,2], [3, 4]]) # create an array with specified values\n",
        "print(x)\n",
        "print(x.shape, x.shape[0], x.shape[1]) # get the shape of an array\n",
        "x = np.random.randn(4, 5) # create an array with numbers drawn from a standard normal distribution\n",
        "print(x)"
      ],
      "execution_count": 2,
      "outputs": [
        {
          "output_type": "stream",
          "name": "stdout",
          "text": [
            "[[0. 0. 0. 0. 0.]]\n",
            "[[1. 1. 1. 1. 1.]]\n",
            "[[1 2]\n",
            " [3 4]]\n",
            "(2, 2) 2 2\n",
            "[[ 1.76429827 -0.10123123 -0.09591904 -0.78373594 -0.35962239]\n",
            " [ 0.92951776 -1.56844947 -0.83345421 -0.09918764  0.96443734]\n",
            " [ 0.56159187  0.61249989 -1.28658511 -0.32900433 -0.16112415]\n",
            " [-0.21614129 -1.30285133 -0.9253743   0.09873514  1.65736407]]\n"
          ]
        }
      ]
    },
    {
      "cell_type": "markdown",
      "source": [
        "# **TO DO:** Create the same tensors in Pytorch.\n",
        "\n",
        "**Hint:** use 'torch' instead of 'np', the functions are similar"
      ],
      "metadata": {
        "id": "rNAkBvUIYcn3"
      }
    },
    {
      "cell_type": "code",
      "metadata": {
        "id": "XFs4SDGDx8z2",
        "colab": {
          "base_uri": "https://localhost:8080/"
        },
        "outputId": "18dd8abd-c14e-4ed6-e489-a35c3df37c20"
      },
      "source": [
        "# TO DO: create the same tensors in pytorch\n",
        "# hint: use 'torch' instead of 'np', the functions are similar\n",
        "x = torch.zeros((1,5))\n",
        "print(x)\n",
        "x = torch.ones((1,5))\n",
        "print(x)\n",
        "x = torch.tensor([[1,2], [3, 4]]) # create an array with specified values\n",
        "print(x)\n",
        "print(x.shape, x.shape[0], x.shape[1]) # get the shape of an array\n",
        "x = torch.rand(4, 5) # create an array with numbers drawn from a standard normal distribution\n",
        "print(x)"
      ],
      "execution_count": 4,
      "outputs": [
        {
          "output_type": "stream",
          "name": "stdout",
          "text": [
            "tensor([[0., 0., 0., 0., 0.]])\n",
            "tensor([[1., 1., 1., 1., 1.]])\n",
            "tensor([[1, 2],\n",
            "        [3, 4]])\n",
            "torch.Size([2, 2]) 2 2\n",
            "tensor([[0.7091, 0.1888, 0.8521, 0.6264, 0.1260],\n",
            "        [0.6655, 0.4711, 0.4478, 0.1506, 0.1661],\n",
            "        [0.6019, 0.9769, 0.4648, 0.6180, 0.3551],\n",
            "        [0.5986, 0.7831, 0.3256, 0.4934, 0.5296]])\n"
          ]
        }
      ]
    },
    {
      "cell_type": "markdown",
      "source": [
        "# Numpy Bridge: \n",
        "It's also possible to directly transform numpy arrays into pytorch tensor."
      ],
      "metadata": {
        "id": "5ntlUlqfaizF"
      }
    },
    {
      "cell_type": "code",
      "metadata": {
        "colab": {
          "base_uri": "https://localhost:8080/"
        },
        "id": "rLN2l0Qxx8z-",
        "outputId": "8cec75c4-b8eb-492f-fc12-2d0563b593eb"
      },
      "source": [
        "# Numpy Bridge: it's also possible to directly transform numpy arrays into pytorch tensor\n",
        "x_np = np.ones((2,3))\n",
        "print(x_np)\n",
        "x_tensor = torch.from_numpy(x_np)\n",
        "print(x_tensor)\n",
        "\n",
        "# And conversely:\n",
        "x_np = x_tensor.numpy()\n",
        "print(x_np)"
      ],
      "execution_count": 5,
      "outputs": [
        {
          "output_type": "stream",
          "name": "stdout",
          "text": [
            "[[1. 1. 1.]\n",
            " [1. 1. 1.]]\n",
            "tensor([[1., 1., 1.],\n",
            "        [1., 1., 1.]], dtype=torch.float64)\n",
            "[[1. 1. 1.]\n",
            " [1. 1. 1.]]\n"
          ]
        }
      ]
    },
    {
      "cell_type": "markdown",
      "source": [
        "# Many usages of Pytorch:\n",
        "So many possibilities in pytorch. We can do anything with pytorch tensor that is possible in numpy. Besides, pytorch offers additional operations."
      ],
      "metadata": {
        "id": "a9vUCSw3a8UO"
      }
    },
    {
      "cell_type": "code",
      "metadata": {
        "colab": {
          "base_uri": "https://localhost:8080/"
        },
        "id": "T0WMRRifx80A",
        "outputId": "ac5ddd48-40a3-4d7f-fd0e-9e2ab51fd1bc"
      },
      "source": [
        "# Another way to create a tensor filled with a given value\n",
        "x = torch.zeros((1, 5))\n",
        "x.fill_(20)\n",
        "print(x)\n",
        "\n",
        "# And another way\n",
        "x = torch.full((1, 5), 20.0)\n",
        "print(x)"
      ],
      "execution_count": 7,
      "outputs": [
        {
          "output_type": "stream",
          "name": "stdout",
          "text": [
            "tensor([[20., 20., 20., 20., 20.]])\n",
            "tensor([[20., 20., 20., 20., 20.]])\n"
          ]
        }
      ]
    },
    {
      "cell_type": "code",
      "metadata": {
        "colab": {
          "base_uri": "https://localhost:8080/"
        },
        "id": "qQPkI5f2x80B",
        "outputId": "22cec44b-2aca-47e4-8f54-c6233e913187"
      },
      "source": [
        "# With some functions, you can create an array without explicitly providing the shape (but instead use another tensor)\n",
        "y = torch.randn_like(x)\n",
        "print(y)"
      ],
      "execution_count": 8,
      "outputs": [
        {
          "output_type": "stream",
          "name": "stdout",
          "text": [
            "tensor([[ 0.4366,  1.2696, -0.6186, -0.1127,  1.7306]])\n"
          ]
        }
      ]
    },
    {
      "cell_type": "code",
      "metadata": {
        "colab": {
          "base_uri": "https://localhost:8080/"
        },
        "id": "KwaEFrXPx80C",
        "outputId": "7ad818a9-fd16-40e6-ba83-a4083de40f33"
      },
      "source": [
        "# Create an array of numbers from 'ind_beg' to 'ind_end' with an increment of 'step'\n",
        "ind_beg = 0\n",
        "ind_end = 10\n",
        "step = 1\n",
        "x = torch.arange(ind_beg, ind_end, step)\n",
        "print(x)"
      ],
      "execution_count": 9,
      "outputs": [
        {
          "output_type": "stream",
          "name": "stdout",
          "text": [
            "tensor([0, 1, 2, 3, 4, 5, 6, 7, 8, 9])\n"
          ]
        }
      ]
    },
    {
      "cell_type": "code",
      "metadata": {
        "colab": {
          "base_uri": "https://localhost:8080/"
        },
        "id": "hIi_BrM8x80E",
        "outputId": "93c3b55d-4571-4a38-fadf-147c07d8474d"
      },
      "source": [
        "# Default values are 'ind_beg=0' and 'step=1' (works as 'range'): useful for loops\n",
        "list_iter = torch.arange(10)\n",
        "for i in list_iter:\n",
        "    print(i)"
      ],
      "execution_count": 10,
      "outputs": [
        {
          "output_type": "stream",
          "name": "stdout",
          "text": [
            "tensor(0)\n",
            "tensor(1)\n",
            "tensor(2)\n",
            "tensor(3)\n",
            "tensor(4)\n",
            "tensor(5)\n",
            "tensor(6)\n",
            "tensor(7)\n",
            "tensor(8)\n",
            "tensor(9)\n"
          ]
        }
      ]
    },
    {
      "cell_type": "code",
      "metadata": {
        "colab": {
          "base_uri": "https://localhost:8080/",
          "height": 1000
        },
        "id": "Pbmfhv18x80G",
        "outputId": "58843f76-782d-4143-b4bd-e1eed886d4bd"
      },
      "source": [
        "# For 'for' loops, if the object to iterate is a multivariate tensor, then it will iterate over the first dimension\n",
        "# for instance, let's assume we have a tensor containing 10 images of size 16x16\n",
        "image_data = torch.randn(10, 16, 16)\n",
        "for im in image_data:\n",
        "    plt.imshow(im)\n",
        "    plt.show()"
      ],
      "execution_count": 11,
      "outputs": [
        {
          "output_type": "display_data",
          "data": {
            "image/png": "[encoded data removed]",
            "text/plain": [
              "<Figure size 432x288 with 1 Axes>"
            ]
          },
          "metadata": {
            "needs_background": "light"
          }
        },
        {
          "output_type": "display_data",
          "data": {
            "image/png": "[encoded data removed]",
            "text/plain": [
              "<Figure size 432x288 with 1 Axes>"
            ]
          },
          "metadata": {
            "needs_background": "light"
          }
        },
        {
          "output_type": "display_data",
          "data": {
            "image/png": "[encoded data removed]",
            "text/plain": [
              "<Figure size 432x288 with 1 Axes>"
            ]
          },
          "metadata": {
            "needs_background": "light"
          }
        },
        {
          "output_type": "display_data",
          "data": {
            "image/png": "[encoded data removed]",
            "text/plain": [
              "<Figure size 432x288 with 1 Axes>"
            ]
          },
          "metadata": {
            "needs_background": "light"
          }
        },
        {
          "output_type": "display_data",
          "data": {
            "image/png": "[encoded data removed]",
            "text/plain": [
              "<Figure size 432x288 with 1 Axes>"
            ]
          },
          "metadata": {
            "needs_background": "light"
          }
        },
        {
          "output_type": "display_data",
          "data": {
            "image/png": "[encoded data removed]",
            "text/plain": [
              "<Figure size 432x288 with 1 Axes>"
            ]
          },
          "metadata": {
            "needs_background": "light"
          }
        },
        {
          "output_type": "display_data",
          "data": {
            "image/png": "[encoded data removed]",
            "text/plain": [
              "<Figure size 432x288 with 1 Axes>"
            ]
          },
          "metadata": {
            "needs_background": "light"
          }
        },
        {
          "output_type": "display_data",
          "data": {
            "image/png": "[encoded data removed]",
            "text/plain": [
              "<Figure size 432x288 with 1 Axes>"
            ]
          },
          "metadata": {
            "needs_background": "light"
          }
        },
        {
          "output_type": "display_data",
          "data": {
            "image/png": "[encoded data removed]",
            "text/plain": [
              "<Figure size 432x288 with 1 Axes>"
            ]
          },
          "metadata": {
            "needs_background": "light"
          }
        },
        {
          "output_type": "display_data",
          "data": {
            "image/png": "[encoded data removed]",
            "text/plain": [
              "<Figure size 432x288 with 1 Axes>"
            ]
          },
          "metadata": {
            "needs_background": "light"
          }
        }
      ]
    },
    {
      "cell_type": "code",
      "metadata": {
        "colab": {
          "base_uri": "https://localhost:8080/",
          "height": 1000
        },
        "id": "FJrzZMeqx80H",
        "outputId": "682b7ecb-d3c7-4134-8fce-3197be7c102b"
      },
      "source": [
        "# If you use 'enumerate', you can keep track of the index\n",
        "for index_im, im in enumerate(image_data):\n",
        "    plt.imshow(im)\n",
        "    plt.title(index_im)\n",
        "    plt.show()"
      ],
      "execution_count": 12,
      "outputs": [
        {
          "output_type": "display_data",
          "data": {
            "image/png": "[encoded data removed]",
            "text/plain": [
              "<Figure size 432x288 with 1 Axes>"
            ]
          },
          "metadata": {
            "needs_background": "light"
          }
        },
        {
          "output_type": "display_data",
          "data": {
            "image/png": "[encoded data removed]",
            "text/plain": [
              "<Figure size 432x288 with 1 Axes>"
            ]
          },
          "metadata": {
            "needs_background": "light"
          }
        },
        {
          "output_type": "display_data",
          "data": {
            "image/png": "[encoded data removed]",
            "text/plain": [
              "<Figure size 432x288 with 1 Axes>"
            ]
          },
          "metadata": {
            "needs_background": "light"
          }
        },
        {
          "output_type": "display_data",
          "data": {
            "image/png": "[encoded data removed]",
            "text/plain": [
              "<Figure size 432x288 with 1 Axes>"
            ]
          },
          "metadata": {
            "needs_background": "light"
          }
        },
        {
          "output_type": "display_data",
          "data": {
            "image/png": "[encoded data removed]",
            "text/plain": [
              "<Figure size 432x288 with 1 Axes>"
            ]
          },
          "metadata": {
            "needs_background": "light"
          }
        },
        {
          "output_type": "display_data",
          "data": {
            "image/png": "[encoded data removed]",
            "text/plain": [
              "<Figure size 432x288 with 1 Axes>"
            ]
          },
          "metadata": {
            "needs_background": "light"
          }
        },
        {
          "output_type": "display_data",
          "data": {
            "image/png": "[encoded data removed]",
            "text/plain": [
              "<Figure size 432x288 with 1 Axes>"
            ]
          },
          "metadata": {
            "needs_background": "light"
          }
        },
        {
          "output_type": "display_data",
          "data": {
            "image/png": "[encoded data removed]",
            "text/plain": [
              "<Figure size 432x288 with 1 Axes>"
            ]
          },
          "metadata": {
            "needs_background": "light"
          }
        },
        {
          "output_type": "display_data",
          "data": {
            "image/png": "[encoded data removed]",
            "text/plain": [
              "<Figure size 432x288 with 1 Axes>"
            ]
          },
          "metadata": {
            "needs_background": "light"
          }
        },
        {
          "output_type": "display_data",
          "data": {
            "image/png": "[encoded data removed]",
            "text/plain": [
              "<Figure size 432x288 with 1 Axes>"
            ]
          },
          "metadata": {
            "needs_background": "light"
          }
        }
      ]
    },
    {
      "cell_type": "code",
      "metadata": {
        "colab": {
          "base_uri": "https://localhost:8080/"
        },
        "id": "n-ncjsxHx80I",
        "outputId": "2fdc50b8-a3e9-4ed9-df02-1ebbfeb00232"
      },
      "source": [
        "# Basic operations\n",
        "x = torch.full((1,5), 5.)\n",
        "y = torch.full((1,5), 3.)\n",
        "\n",
        "print(x+y)\n",
        "print(x-y)\n",
        "print(x*y)\n",
        "print(x/y)\n",
        "print(x ** y)"
      ],
      "execution_count": 13,
      "outputs": [
        {
          "output_type": "stream",
          "name": "stdout",
          "text": [
            "tensor([[8., 8., 8., 8., 8.]])\n",
            "tensor([[2., 2., 2., 2., 2.]])\n",
            "tensor([[15., 15., 15., 15., 15.]])\n",
            "tensor([[1.6667, 1.6667, 1.6667, 1.6667, 1.6667]])\n",
            "tensor([[125., 125., 125., 125., 125.]])\n"
          ]
        }
      ]
    },
    {
      "cell_type": "code",
      "metadata": {
        "colab": {
          "base_uri": "https://localhost:8080/"
        },
        "id": "L7CKTIY_x80M",
        "outputId": "acc63ed3-466c-4674-81c7-e0cbe8d68aa0"
      },
      "source": [
        "# Pytorch has some built-in basic math functions (exp, sin, cos...) that can be applied element-wise to a tensor\n",
        "x = torch.randn(2,3)\n",
        "y = torch.exp(x)\n",
        "print(y)"
      ],
      "execution_count": 14,
      "outputs": [
        {
          "output_type": "stream",
          "name": "stdout",
          "text": [
            "tensor([[0.9271, 3.8540, 2.3797],\n",
            "        [1.3787, 3.1526, 0.5244]])\n"
          ]
        }
      ]
    },
    {
      "cell_type": "code",
      "metadata": {
        "id": "rIzBOGVGx80N",
        "colab": {
          "base_uri": "https://localhost:8080/",
          "height": 265
        },
        "outputId": "3119fd5e-012b-465d-a223-8d940f39a723"
      },
      "source": [
        "# TO DO: plot the function y=sin(x) where x ranges in [-5; 5] (with a step of 0.1)\n",
        "# reminder: use 'plt.plot(x, y)' to plot y as a function of x\n",
        "x = torch.arange(-5,5,0.1)\n",
        "y = torch.sin(x)\n",
        "plt.plot(x,y)\n",
        "plt.show()"
      ],
      "execution_count": 15,
      "outputs": [
        {
          "output_type": "display_data",
          "data": {
            "image/png": "[encoded data removed]",
            "text/plain": [
              "<Figure size 432x288 with 1 Axes>"
            ]
          },
          "metadata": {
            "needs_background": "light"
          }
        }
      ]
    },
    {
      "cell_type": "code",
      "metadata": {
        "id": "PprJFDJNx80N",
        "colab": {
          "base_uri": "https://localhost:8080/",
          "height": 265
        },
        "outputId": "6615b6aa-1e44-4f8a-a55f-e82350ffd649"
      },
      "source": [
        "# TO DO: same exercice, but add some Gaussian noise (centered, std = 0.1) to the sinus\n",
        "x = torch.arange(-5,5,0.1)\n",
        "y = torch.sin(x)\n",
        "y += torch.normal(0, 0.1, size=x.shape)\n",
        "plt.plot(x,y)\n",
        "plt.show()"
      ],
      "execution_count": 16,
      "outputs": [
        {
          "output_type": "display_data",
          "data": {
            "image/png": "[encoded data removed]",
            "text/plain": [
              "<Figure size 432x288 with 1 Axes>"
            ]
          },
          "metadata": {
            "needs_background": "light"
          }
        }
      ]
    },
    {
      "cell_type": "code",
      "metadata": {
        "colab": {
          "base_uri": "https://localhost:8080/"
        },
        "id": "0GJCufcWx80O",
        "outputId": "8152f019-f444-4682-faa7-b09d5a1b5f83"
      },
      "source": [
        "# Slicing (same as in numpy)\n",
        "x = torch.randn(5,6)\n",
        "print(x[:3])  # slice over the first dimension\n",
        "print(x[:, :3]) # slice over the second dimension\n",
        "print(x[:3,:3]) # slice over both dimensions"
      ],
      "execution_count": 17,
      "outputs": [
        {
          "output_type": "stream",
          "name": "stdout",
          "text": [
            "tensor([[ 0.6301, -0.0526, -1.5988,  0.1725,  1.5710,  0.4665],\n",
            "        [-0.0881, -0.9875,  1.2620,  0.8717, -0.2039, -0.7811],\n",
            "        [ 0.2398, -0.4875,  0.3468,  1.4468,  0.1036, -0.6382]])\n",
            "tensor([[ 0.6301, -0.0526, -1.5988],\n",
            "        [-0.0881, -0.9875,  1.2620],\n",
            "        [ 0.2398, -0.4875,  0.3468],\n",
            "        [ 1.7134, -0.1345, -1.8112],\n",
            "        [-1.6343, -0.5230, -0.1926]])\n",
            "tensor([[ 0.6301, -0.0526, -1.5988],\n",
            "        [-0.0881, -0.9875,  1.2620],\n",
            "        [ 0.2398, -0.4875,  0.3468]])\n"
          ]
        }
      ]
    },
    {
      "cell_type": "code",
      "metadata": {
        "colab": {
          "base_uri": "https://localhost:8080/"
        },
        "id": "5F_xLHiKx80P",
        "outputId": "04270264-734e-4789-d0dc-a4af9ef86133"
      },
      "source": [
        "# Tensor types in pytorch (https://pytorch.org/docs/stable/tensors.html)\n",
        "x = torch.rand(1, 10)\n",
        "print(x.dtype)\n",
        "print(x)\n",
        "\n",
        "# Change the type using the 'type' method\n",
        "x = x.type(torch.float16)\n",
        "print(x.dtype)\n",
        "print(x)\n",
        "\n",
        "x = x.type(torch.int16)\n",
        "print(x.dtype)\n",
        "print(x)\n",
        "\n",
        "# You can specify the type when creating a tensor\n",
        "x = torch.tensor(3, dtype=torch.int)\n",
        "print(x)\n"
      ],
      "execution_count": 18,
      "outputs": [
        {
          "output_type": "stream",
          "name": "stdout",
          "text": [
            "torch.float32\n",
            "tensor([[0.2126, 0.0912, 0.6343, 0.9565, 0.2376, 0.3504, 0.7170, 0.1026, 0.1963,\n",
            "         0.1086]])\n",
            "torch.float16\n",
            "tensor([[0.2126, 0.0912, 0.6343, 0.9565, 0.2377, 0.3503, 0.7168, 0.1026, 0.1963,\n",
            "         0.1086]], dtype=torch.float16)\n",
            "torch.int16\n",
            "tensor([[0, 0, 0, 0, 0, 0, 0, 0, 0, 0]], dtype=torch.int16)\n",
            "tensor(3, dtype=torch.int32)\n"
          ]
        }
      ]
    },
    {
      "cell_type": "code",
      "metadata": {
        "colab": {
          "base_uri": "https://localhost:8080/"
        },
        "id": "LbJ6PRPIx80R",
        "outputId": "21fe6f6f-60ff-40af-ba5e-3e2c54126bee"
      },
      "source": [
        "# Check if it's a float\n",
        "print(x.is_floating_point())\n",
        "\n",
        "pi = torch.tensor(3.14159)\n",
        "print(pi, pi.is_floating_point(), pi.dtype)"
      ],
      "execution_count": 19,
      "outputs": [
        {
          "output_type": "stream",
          "name": "stdout",
          "text": [
            "False\n",
            "tensor(3.1416) True torch.float32\n"
          ]
        }
      ]
    },
    {
      "cell_type": "code",
      "metadata": {
        "colab": {
          "base_uri": "https://localhost:8080/"
        },
        "id": "az9KGWi2x80S",
        "outputId": "585530b0-7b81-4199-e08a-ed850afb055f"
      },
      "source": [
        "# Devices: two types ('cpu' and 'cuda' (=gpu))\n",
        "\n",
        "# You can check if a gpu is available (and how many)\n",
        "print(torch.cuda.is_available())\n",
        "print(torch.cuda.device_count())\n",
        "\n",
        "cpu_device = torch.device('cpu')\n",
        "cuda_device = torch.device('cuda')\n",
        "\n",
        "# By default, any tensor will be on a 'cpu' device\n",
        "x = torch.rand(1, 10)\n",
        "print(x.device)\n",
        "\n",
        "# You can change it using the 'to' method (switching to CUDA is only possible if you installed the corresponding pytorch environment)\n",
        "x = x.to(cpu_device)\n",
        "print(x.device)"
      ],
      "execution_count": 20,
      "outputs": [
        {
          "output_type": "stream",
          "name": "stdout",
          "text": [
            "False\n",
            "0\n",
            "cpu\n",
            "cpu\n"
          ]
        }
      ]
    },
    {
      "cell_type": "code",
      "metadata": {
        "colab": {
          "base_uri": "https://localhost:8080/"
        },
        "id": "1lNw2njWx80T",
        "outputId": "33a0334e-a0c6-4f9f-d8c0-a35ca166fac3"
      },
      "source": [
        "# Reshaping tensors (transpose, reshape, view)\n",
        "x = torch.randn(8,5)\n",
        "print(x)\n",
        "\n",
        "# Transposition: use either 'x.t()' or 'x.transpose(dims)' where 'dims' specifies the new dimensions\n",
        "y = x.transpose(1,0)\n",
        "print(y)\n",
        "z = x.t()\n",
        "print(z)\n",
        "print(x.shape, y.shape, z.shape)"
      ],
      "execution_count": 21,
      "outputs": [
        {
          "output_type": "stream",
          "name": "stdout",
          "text": [
            "tensor([[-0.4063, -0.7334, -0.4179,  0.1873,  0.0165],\n",
            "        [-0.0417,  1.2174, -0.4392, -1.1197,  0.4686],\n",
            "        [ 0.3107, -0.0499,  2.1459,  0.0929,  0.8619],\n",
            "        [-0.7782,  0.8036,  0.8418,  0.5491,  2.2881],\n",
            "        [ 1.6702,  1.1894, -1.4093,  0.3344,  0.0562],\n",
            "        [ 0.1435, -0.4791, -0.4565,  0.3298, -0.7710],\n",
            "        [-1.8046, -0.3912,  1.1151,  0.6570,  0.7984],\n",
            "        [ 1.0035, -0.9313,  1.6058,  0.0537,  0.1234]])\n",
            "tensor([[-0.4063, -0.0417,  0.3107, -0.7782,  1.6702,  0.1435, -1.8046,  1.0035],\n",
            "        [-0.7334,  1.2174, -0.0499,  0.8036,  1.1894, -0.4791, -0.3912, -0.9313],\n",
            "        [-0.4179, -0.4392,  2.1459,  0.8418, -1.4093, -0.4565,  1.1151,  1.6058],\n",
            "        [ 0.1873, -1.1197,  0.0929,  0.5491,  0.3344,  0.3298,  0.6570,  0.0537],\n",
            "        [ 0.0165,  0.4686,  0.8619,  2.2881,  0.0562, -0.7710,  0.7984,  0.1234]])\n",
            "tensor([[-0.4063, -0.0417,  0.3107, -0.7782,  1.6702,  0.1435, -1.8046,  1.0035],\n",
            "        [-0.7334,  1.2174, -0.0499,  0.8036,  1.1894, -0.4791, -0.3912, -0.9313],\n",
            "        [-0.4179, -0.4392,  2.1459,  0.8418, -1.4093, -0.4565,  1.1151,  1.6058],\n",
            "        [ 0.1873, -1.1197,  0.0929,  0.5491,  0.3344,  0.3298,  0.6570,  0.0537],\n",
            "        [ 0.0165,  0.4686,  0.8619,  2.2881,  0.0562, -0.7710,  0.7984,  0.1234]])\n",
            "torch.Size([8, 5]) torch.Size([5, 8]) torch.Size([5, 8])\n"
          ]
        }
      ]
    },
    {
      "cell_type": "code",
      "metadata": {
        "colab": {
          "base_uri": "https://localhost:8080/"
        },
        "id": "qs2NFjEax80T",
        "outputId": "dae9f295-e554-412b-8b14-6b8fc9ce304f"
      },
      "source": [
        "# Reshape: reorganize the tensor with the specified output dimensions (similar as numpy arrays reshape)\n",
        "y = x.reshape(10,4)\n",
        "print(y, y.shape)\n",
        "\n",
        "# You can specify all-but-one dimensions and mark the other with '-1', and it will autocomplete consistently\n",
        "z = x.reshape(-1, 10)\n",
        "print(z.shape)\n",
        "z = x.reshape(2, -1)\n",
        "print(z.shape)\n"
      ],
      "execution_count": 22,
      "outputs": [
        {
          "output_type": "stream",
          "name": "stdout",
          "text": [
            "tensor([[-0.4063, -0.7334, -0.4179,  0.1873],\n",
            "        [ 0.0165, -0.0417,  1.2174, -0.4392],\n",
            "        [-1.1197,  0.4686,  0.3107, -0.0499],\n",
            "        [ 2.1459,  0.0929,  0.8619, -0.7782],\n",
            "        [ 0.8036,  0.8418,  0.5491,  2.2881],\n",
            "        [ 1.6702,  1.1894, -1.4093,  0.3344],\n",
            "        [ 0.0562,  0.1435, -0.4791, -0.4565],\n",
            "        [ 0.3298, -0.7710, -1.8046, -0.3912],\n",
            "        [ 1.1151,  0.6570,  0.7984,  1.0035],\n",
            "        [-0.9313,  1.6058,  0.0537,  0.1234]]) torch.Size([10, 4])\n",
            "torch.Size([4, 10])\n",
            "torch.Size([2, 20])\n"
          ]
        }
      ]
    },
    {
      "cell_type": "code",
      "metadata": {
        "colab": {
          "base_uri": "https://localhost:8080/"
        },
        "id": "afWi0m8Zx80T",
        "outputId": "4d198639-2a76-4cbe-9085-1e4c1e611c63"
      },
      "source": [
        "# View: similar as 'reshape', but only creates a view over the tensor: if the original data is changed, then the viewed tensors also changes\n",
        "x = torch.zeros(8,5)\n",
        "y = x.view(10,4)\n",
        "print(y)\n",
        "\n",
        "x.fill_(1)\n",
        "print(y)"
      ],
      "execution_count": 23,
      "outputs": [
        {
          "output_type": "stream",
          "name": "stdout",
          "text": [
            "tensor([[0., 0., 0., 0.],\n",
            "        [0., 0., 0., 0.],\n",
            "        [0., 0., 0., 0.],\n",
            "        [0., 0., 0., 0.],\n",
            "        [0., 0., 0., 0.],\n",
            "        [0., 0., 0., 0.],\n",
            "        [0., 0., 0., 0.],\n",
            "        [0., 0., 0., 0.],\n",
            "        [0., 0., 0., 0.],\n",
            "        [0., 0., 0., 0.]])\n",
            "tensor([[1., 1., 1., 1.],\n",
            "        [1., 1., 1., 1.],\n",
            "        [1., 1., 1., 1.],\n",
            "        [1., 1., 1., 1.],\n",
            "        [1., 1., 1., 1.],\n",
            "        [1., 1., 1., 1.],\n",
            "        [1., 1., 1., 1.],\n",
            "        [1., 1., 1., 1.],\n",
            "        [1., 1., 1., 1.],\n",
            "        [1., 1., 1., 1.]])\n"
          ]
        }
      ]
    },
    {
      "cell_type": "code",
      "metadata": {
        "colab": {
          "base_uri": "https://localhost:8080/"
        },
        "id": "Sd4plMSKx80U",
        "outputId": "d2dfff11-4633-4fad-97a0-d52d2a7d97ea"
      },
      "source": [
        "# Concatenate: useful to concatenate tensors along a specified (existing) dimension\n",
        "# Works with any tensors, provided that the dimensions over which you don't concatenate are consistent\n",
        "x1 = torch.rand(15, 64, 64)\n",
        "x2 = torch.rand(50, 64, 64)\n",
        "X_concat = torch.cat((x1,x2), dim=0)\n",
        "print(X_concat.shape)\n",
        "\n",
        "x1 = torch.rand(10, 217)\n",
        "x2 = torch.rand(10, 489)\n",
        "X_concat = torch.cat((x1,x2), dim=1)\n",
        "print(X_concat.shape)\n",
        "\n",
        "x1 = torch.rand(10, 217, 12)\n",
        "x2 = torch.rand(10, 217, 14)\n",
        "X_concat = torch.cat((x1,x2), dim=2)\n",
        "print(X_concat.shape)"
      ],
      "execution_count": 24,
      "outputs": [
        {
          "output_type": "stream",
          "name": "stdout",
          "text": [
            "torch.Size([65, 64, 64])\n",
            "torch.Size([10, 706])\n",
            "torch.Size([10, 217, 26])\n"
          ]
        }
      ]
    },
    {
      "cell_type": "code",
      "metadata": {
        "colab": {
          "base_uri": "https://localhost:8080/"
        },
        "id": "DD5KKi96x80U",
        "outputId": "bee82373-6e92-4526-9e99-68fb5281f02e"
      },
      "source": [
        "# Squeeze and unsqueeze\n",
        "\n",
        "# If a tensor has one of his dimensions which is '1', you can get ridd of it (if needed) by squeezing the tensor\n",
        "x = torch.zeros(2, 1, 5)\n",
        "print(x.shape)\n",
        "y = x.squeeze()\n",
        "print(y.shape)\n",
        "\n",
        "# Conversely, if you want to expand a tensor by adding a new dimension, you can unsqueeze it (useful for concatenating tensors)\n",
        "x = torch.zeros(2, 5)\n",
        "print(x.shape)\n",
        "y = x.unsqueeze(1)\n",
        "print(y.shape)\n"
      ],
      "execution_count": 25,
      "outputs": [
        {
          "output_type": "stream",
          "name": "stdout",
          "text": [
            "torch.Size([2, 1, 5])\n",
            "torch.Size([2, 5])\n",
            "torch.Size([2, 5])\n",
            "torch.Size([2, 1, 5])\n"
          ]
        }
      ]
    },
    {
      "cell_type": "code",
      "metadata": {
        "id": "xkEAkweIx80U",
        "colab": {
          "base_uri": "https://localhost:8080/"
        },
        "outputId": "4f609ffa-112b-49e2-8ed0-303a85f1b175"
      },
      "source": [
        "# TO DO : create two image-like tensors of size 16x16 (with random values).\n",
        "# Concatenate them into a single tensor of size (2, 16, 16)\n",
        "# hint: first unsqueeze the tensors to create a new dimension, and 'cat' over this dimension\n",
        "x = torch.randn(16,16)\n",
        "y = torch.randn(16,16)\n",
        "x = x.unsqueeze(0)\n",
        "y = y.unsqueeze(0)\n",
        "x_cat_y = torch.cat((x,y),0)\n",
        "print(x_cat_y.shape)"
      ],
      "execution_count": 26,
      "outputs": [
        {
          "output_type": "stream",
          "name": "stdout",
          "text": [
            "torch.Size([2, 16, 16])\n"
          ]
        }
      ]
    },
    {
      "cell_type": "code",
      "metadata": {
        "colab": {
          "base_uri": "https://localhost:8080/"
        },
        "id": "Di7_9Oowx80V",
        "outputId": "4f11b70b-3e1d-44ab-e6d4-e1727399d65e"
      },
      "source": [
        "# Stack: unlike 'cat', 'stack' concatenates the tensors along a new dimension (the inputs tensors must have the same shape)\n",
        "x = torch.ones(1, 10)\n",
        "x.fill_(5)\n",
        "y = torch.ones(1, 10)\n",
        "y.fill_(20)\n",
        "print(x.shape, y.shape)\n",
        "\n",
        "z_stack = torch.stack((x, y), dim=0)\n",
        "print(z_stack.shape)\n",
        "\n",
        "# Check the difference with 'cat'\n",
        "z_cat = torch.cat((x, y), dim=0)\n",
        "print(z_cat.shape)"
      ],
      "execution_count": 27,
      "outputs": [
        {
          "output_type": "stream",
          "name": "stdout",
          "text": [
            "torch.Size([1, 10]) torch.Size([1, 10])\n",
            "torch.Size([2, 1, 10])\n",
            "torch.Size([2, 10])\n"
          ]
        }
      ]
    },
    {
      "cell_type": "code",
      "metadata": {
        "colab": {
          "base_uri": "https://localhost:8080/"
        },
        "id": "tQx30MSLx80V",
        "outputId": "caca3eec-f8bf-4533-99c7-6dff37410253"
      },
      "source": [
        "z_stack = torch.stack((x, y), dim=1)\n",
        "print(z_stack.shape)\n",
        "\n",
        "z_stack = torch.stack((x, y), dim=2)\n",
        "print(z_stack.shape)"
      ],
      "execution_count": 28,
      "outputs": [
        {
          "output_type": "stream",
          "name": "stdout",
          "text": [
            "torch.Size([1, 2, 10])\n",
            "torch.Size([1, 10, 2])\n"
          ]
        }
      ]
    },
    {
      "cell_type": "code",
      "metadata": {
        "id": "OxehKCQ7x80V",
        "colab": {
          "base_uri": "https://localhost:8080/"
        },
        "outputId": "e11f89ee-797d-4211-8bd0-dfa4e961b1bb"
      },
      "source": [
        "# TO DO : same exercice as before (create a tensor containing 2 images), but using stack (should be simpler)\n",
        "x = torch.randn(16,16)\n",
        "y = torch.randn(16,16)\n",
        "x_stack_y = torch.stack((x,y),0)\n",
        "print(x_stack_y.shape)"
      ],
      "execution_count": 29,
      "outputs": [
        {
          "output_type": "stream",
          "name": "stdout",
          "text": [
            "torch.Size([2, 16, 16])\n"
          ]
        }
      ]
    },
    {
      "cell_type": "code",
      "metadata": {
        "colab": {
          "base_uri": "https://localhost:8080/"
        },
        "id": "QGLqe1I6x80V",
        "outputId": "7d35d780-b7f4-4da8-e157-03b3a67bc635"
      },
      "source": [
        "# min, max, argmin, argmax, sort\n",
        "x = torch.rand(1, 5)\n",
        "print(x)\n",
        "\n",
        "print(x.min(), x.max(), x.argmin(), x.argmax())\n",
        "\n",
        "x_sorted, ind_sort = x.sort()\n",
        "print(x_sorted, ind_sort)"
      ],
      "execution_count": 30,
      "outputs": [
        {
          "output_type": "stream",
          "name": "stdout",
          "text": [
            "tensor([[0.5533, 0.5298, 0.5563, 0.5948, 0.2732]])\n",
            "tensor(0.2732) tensor(0.5948) tensor(4) tensor(3)\n",
            "tensor([[0.2732, 0.5298, 0.5533, 0.5563, 0.5948]]) tensor([[4, 1, 0, 2, 3]])\n"
          ]
        }
      ]
    },
    {
      "cell_type": "code",
      "metadata": {
        "colab": {
          "base_uri": "https://localhost:8080/"
        },
        "id": "le_xyQecx80W",
        "outputId": "8fe031be-e1df-4392-8a66-7d316e9cead4"
      },
      "source": [
        "# Save / load files: very similar to numpy (but with reversed arguments order)\n",
        "\n",
        "x_np = np.ones((2,3))\n",
        "np_filepath = 'x_np.npy'\n",
        "np.save(np_filepath, x_np)\n",
        "x_np_load = np.load(np_filepath)\n",
        "print(x_np_load)\n",
        "\n",
        "x_tensor = torch.from_numpy(x_np)\n",
        "tensor_filepath = 'x_tensor.pt'\n",
        "torch.save(x_tensor, tensor_filepath)\n",
        "x_tensor_load = torch.load(tensor_filepath)\n",
        "print(x_tensor_load)"
      ],
      "execution_count": 31,
      "outputs": [
        {
          "output_type": "stream",
          "name": "stdout",
          "text": [
            "[[1. 1. 1.]\n",
            " [1. 1. 1.]]\n",
            "tensor([[1., 1., 1.],\n",
            "        [1., 1., 1.]], dtype=torch.float64)\n"
          ]
        }
      ]
    },
    {
      "cell_type": "code",
      "metadata": {
        "id": "OMCuIYHXx80W",
        "colab": {
          "base_uri": "https://localhost:8080/",
          "height": 265
        },
        "outputId": "26148ff1-9ce3-4b9a-ff7b-92844d57579b"
      },
      "source": [
        "# TO DO: compute and plot several functions sin(k*x) with k = [1,2,3]\n",
        "# create a tensor x which ranges in [0; 6] (with a step of 0.1)\n",
        "\n",
        "# create a tensor k_list with values [1, 2, 3]\n",
        "\n",
        "# initialize an empty tensor y_tot which will contain all the data\n",
        "\n",
        "x = torch.arange(0,6,0.1)\n",
        "k_list = torch.tensor([1,2,3])\n",
        "y_tot = torch.stack((torch.empty_like(x), torch.empty_like(x), torch.empty_like(x)), 0)\n",
        "y_tot.shape\n",
        "\n",
        "for i, k in enumerate(k_list):\n",
        "  y_tot[i] = torch.sin(k*x)\n",
        "\n",
        "\n",
        "# plot the functions\n",
        "plt.plot(x,y_tot[0])\n",
        "plt.plot(x,y_tot[1])\n",
        "plt.plot(x,y_tot[2])\n",
        "plt.show()"
      ],
      "execution_count": 32,
      "outputs": [
        {
          "output_type": "display_data",
          "data": {
            "image/png": "[encoded data removed]",
            "text/plain": [
              "<Figure size 432x288 with 1 Axes>"
            ]
          },
          "metadata": {
            "needs_background": "light"
          }
        }
      ]
    },
    {
      "cell_type": "code",
      "metadata": {
        "id": "frFZknq0x80W",
        "colab": {
          "base_uri": "https://localhost:8080/",
          "height": 265
        },
        "outputId": "e60e4144-7747-4071-d103-c4b0aa626c20"
      },
      "source": [
        "# TO DO: Compute the weighted sum of these functions: S(x) = sum_k 1/k sin(k*x)\n",
        "# plot it and save it in a .pt file and as a np array\n",
        "# hint: use the torch.mean function (https://pytorch.org/docs/stable/generated/torch.mean.html)\n",
        "s = torch.mean(y_tot, dim=0)\n",
        "plt.plot(x,s)\n",
        "plt.show()"
      ],
      "execution_count": 33,
      "outputs": [
        {
          "output_type": "display_data",
          "data": {
            "image/png": "[encoded data removed]",
            "text/plain": [
              "<Figure size 432x288 with 1 Axes>"
            ]
          },
          "metadata": {
            "needs_background": "light"
          }
        }
      ]
    },
    {
      "cell_type": "code",
      "metadata": {
        "id": "suyNy8dlWa1g",
        "colab": {
          "base_uri": "https://localhost:8080/"
        },
        "outputId": "9317abb0-8987-4eb2-828a-f2f304ee4dad"
      },
      "source": [
        "# Autograd (automatic differentiation) is the pytorch module that performs gradient tracking and computation\n",
        "# By default, when tensors are created their gradients are not tracked\n",
        "x = torch.ones(1, 10)\n",
        "print(x.requires_grad)\n",
        "\n",
        "# You can change it using the requires_grad_() function\n",
        "x.requires_grad_()\n",
        "print(x.requires_grad)\n",
        "\n",
        "# Alternatively, when creating a tensor, you can directly set 'requires_grad=True'\n",
        "x = torch.ones(1, 10, requires_grad=True)\n",
        "print(x.requires_grad)"
      ],
      "execution_count": 34,
      "outputs": [
        {
          "output_type": "stream",
          "name": "stdout",
          "text": [
            "False\n",
            "True\n",
            "True\n"
          ]
        }
      ]
    },
    {
      "cell_type": "code",
      "metadata": {
        "id": "T8gTrbgbmhV9",
        "colab": {
          "base_uri": "https://localhost:8080/"
        },
        "outputId": "7377bcb1-9491-4c37-ebc8-2fd232d11306"
      },
      "source": [
        "# If you create a tensor y from x as the result of an operation, it will have a gradient function (grad_fn) which is specific to this operation\n",
        "y = x + 50\n",
        "print(y.grad_fn)\n",
        "\n",
        "y = x * 50\n",
        "print(y.grad_fn)\n",
        "\n",
        "y = x.mean()\n",
        "print(y.grad_fn)"
      ],
      "execution_count": 35,
      "outputs": [
        {
          "output_type": "stream",
          "name": "stdout",
          "text": [
            "<AddBackward0 object at 0x7f11c824b650>\n",
            "<MulBackward0 object at 0x7f11c8252d10>\n",
            "<MeanBackward0 object at 0x7f11c8252d10>\n"
          ]
        }
      ]
    },
    {
      "cell_type": "code",
      "metadata": {
        "id": "WwAVzZt4mhy0",
        "colab": {
          "base_uri": "https://localhost:8080/"
        },
        "outputId": "bb1be606-d787-442d-87d0-a2e50f1a26ee"
      },
      "source": [
        "# Backward: computes the gradients \n",
        "x = torch.ones(1, 10, requires_grad=True)\n",
        "y = x.mean()\n",
        "y.backward()\n",
        "print(x.grad)"
      ],
      "execution_count": 36,
      "outputs": [
        {
          "output_type": "stream",
          "name": "stdout",
          "text": [
            "tensor([[0.1000, 0.1000, 0.1000, 0.1000, 0.1000, 0.1000, 0.1000, 0.1000, 0.1000,\n",
            "         0.1000]])\n"
          ]
        }
      ]
    },
    {
      "cell_type": "code",
      "metadata": {
        "id": "jES4iPNbmrts",
        "colab": {
          "base_uri": "https://localhost:8080/"
        },
        "outputId": "3704af51-3be5-42bd-c17a-fb6005a49afc"
      },
      "source": [
        "# BEWARE: backward() accumulates the gradients we often need to zero them before each optimization step\n",
        "y.backward()\n",
        "print(x.grad)\n",
        "\n",
        "x.grad.data.zero_()\n",
        "y.backward()\n",
        "print(x.grad)"
      ],
      "execution_count": 37,
      "outputs": [
        {
          "output_type": "stream",
          "name": "stdout",
          "text": [
            "tensor([[0.2000, 0.2000, 0.2000, 0.2000, 0.2000, 0.2000, 0.2000, 0.2000, 0.2000,\n",
            "         0.2000]])\n",
            "tensor([[0.1000, 0.1000, 0.1000, 0.1000, 0.1000, 0.1000, 0.1000, 0.1000, 0.1000,\n",
            "         0.1000]])\n"
          ]
        }
      ]
    },
    {
      "cell_type": "code",
      "metadata": {
        "id": "mpxOtikXmiKl",
        "colab": {
          "base_uri": "https://localhost:8080/"
        },
        "outputId": "8b7ccaac-f6ca-401b-fa04-01aa74d2211d"
      },
      "source": [
        "# Sometimes (for instance at testing), you don't need to keep tracking of the gradients for some operations\n",
        "# Then, in order to save memory you can simply deactivate gradient tracking\n",
        "y = x.mean()\n",
        "print(y.requires_grad)\n",
        "\n",
        "with torch.no_grad():\n",
        "    y = x.mean()\n",
        "    print(y.requires_grad)"
      ],
      "execution_count": 38,
      "outputs": [
        {
          "output_type": "stream",
          "name": "stdout",
          "text": [
            "True\n",
            "False\n"
          ]
        }
      ]
    }
  ]
}